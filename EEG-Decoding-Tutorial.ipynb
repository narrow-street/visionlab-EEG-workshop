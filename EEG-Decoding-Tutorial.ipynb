{
 "cells": [
  {
   "cell_type": "markdown",
   "metadata": {},
   "source": [
    "# EEG Decoding/MVPA Tutorial"
   ]
  },
  {
   "cell_type": "markdown",
   "metadata": {},
   "source": [
    "The goal of this notebook is to demonstrate EEG decoding/MVPA techniques using some pilot data collected in our EEG Lab. Some of the contents are based on [this notebook](https://github.com/mne-tools/mne-workshops/blob/master/2018_06_Amsterdam/mne_notebook_3_mvpa.ipynb)."
   ]
  },
  {
   "cell_type": "code",
   "execution_count": null,
   "metadata": {
    "ExecuteTime": {
     "end_time": "2019-09-24T21:12:16.952467Z",
     "start_time": "2019-09-24T21:12:16.944874Z"
    }
   },
   "outputs": [],
   "source": [
    "%matplotlib inline\n",
    "\n",
    "import numpy as np                # data array manipulation \n",
    "import pandas as pd               # dataframe \n",
    "import matplotlib.pyplot as plt   # data visulization \n",
    "\n",
    "import mne                        # eeg toolbox"
   ]
  },
  {
   "cell_type": "markdown",
   "metadata": {},
   "source": [
    "## Experimental Designs\n",
    "\n",
    "First, Let's take a look at the stimuli and their properties."
   ]
  },
  {
   "cell_type": "code",
   "execution_count": null,
   "metadata": {
    "ExecuteTime": {
     "end_time": "2019-09-24T20:02:11.867430Z",
     "start_time": "2019-09-24T20:02:11.748003Z"
    },
    "scrolled": true
   },
   "outputs": [],
   "source": [
    "df_stim = pd.read_csv('stimuli.csv', squeeze=True).set_index('id')\n",
    "df_stim"
   ]
  },
  {
   "cell_type": "code",
   "execution_count": null,
   "metadata": {
    "ExecuteTime": {
     "end_time": "2019-09-24T20:34:28.024349Z",
     "start_time": "2019-09-24T20:34:28.019256Z"
    }
   },
   "outputs": [],
   "source": [
    "# count the number of stimuli\n",
    "num_stim = df_stim.shape[0]\n",
    "num_stim"
   ]
  },
  {
   "cell_type": "code",
   "execution_count": null,
   "metadata": {
    "ExecuteTime": {
     "end_time": "2019-09-24T20:44:03.032683Z",
     "start_time": "2019-09-24T20:44:03.026340Z"
    }
   },
   "outputs": [],
   "source": [
    "# whether a stimulus is animate or not?\n",
    "animate_stim_ids = df_stim[df_stim['animacy'] == 'animate'].index\n",
    "animate_stim_ids"
   ]
  },
  {
   "cell_type": "markdown",
   "metadata": {},
   "source": [
    "## From Raw to Epochs"
   ]
  },
  {
   "cell_type": "markdown",
   "metadata": {},
   "source": [
    "In this section, we will epoch the raw EEG data so that the epoched data can be used for decoding.\n"
   ]
  },
  {
   "cell_type": "markdown",
   "metadata": {},
   "source": [
    "### load raw EEG data\n",
    "In this step, we will load the raw EEG data."
   ]
  },
  {
   "cell_type": "code",
   "execution_count": null,
   "metadata": {
    "ExecuteTime": {
     "end_time": "2019-09-24T21:01:39.086558Z",
     "start_time": "2019-09-24T21:01:38.505424Z"
    },
    "scrolled": true
   },
   "outputs": [],
   "source": [
    "# raw eeg file\n",
    "fname = './original-run1-raw.fif.gz'\n",
    "\n",
    "# load eeg data\n",
    "raw = mne.io.read_raw_fif(fname, preload=True)\n",
    "raw"
   ]
  },
  {
   "cell_type": "markdown",
   "metadata": {},
   "source": [
    " ### extract event information \n",
    " In this step, we'll make `events` and `event_id`, which are required inputs for epoching, by extracting annotations from the raw EEG data."
   ]
  },
  {
   "cell_type": "code",
   "execution_count": null,
   "metadata": {
    "ExecuteTime": {
     "end_time": "2019-09-24T21:08:10.038008Z",
     "start_time": "2019-09-24T21:08:10.027290Z"
    },
    "scrolled": true
   },
   "outputs": [],
   "source": [
    "# extract annotations from raw\n",
    "triggers, _ = mne.events_from_annotations(raw)\n",
    "\n",
    "# the first 10 triggers\n",
    "triggers[:10] "
   ]
  },
  {
   "cell_type": "markdown",
   "metadata": {},
   "source": [
    "Because not all triggers are related to the experimental design, we then filter only the experiment-related events."
   ]
  },
  {
   "cell_type": "code",
   "execution_count": null,
   "metadata": {
    "ExecuteTime": {
     "end_time": "2019-09-24T21:08:29.105226Z",
     "start_time": "2019-09-24T21:08:29.098926Z"
    },
    "scrolled": true
   },
   "outputs": [],
   "source": [
    "events = triggers[triggers[:, -1] <= num_stim]\n",
    "\n",
    "# the first 10 events\n",
    "events[:10]"
   ]
  },
  {
   "cell_type": "code",
   "execution_count": null,
   "metadata": {
    "ExecuteTime": {
     "end_time": "2019-09-24T20:36:11.197552Z",
     "start_time": "2019-09-24T20:36:11.190429Z"
    }
   },
   "outputs": [],
   "source": [
    "event_id = dict(zip(df_stim['label'], df_stim.index))\n",
    "event_id"
   ]
  },
  {
   "cell_type": "markdown",
   "metadata": {},
   "source": [
    "### make epochs"
   ]
  },
  {
   "cell_type": "code",
   "execution_count": null,
   "metadata": {
    "ExecuteTime": {
     "end_time": "2019-09-24T20:36:34.117741Z",
     "start_time": "2019-09-24T20:36:34.038657Z"
    },
    "scrolled": false
   },
   "outputs": [],
   "source": [
    "# Start time before event, End time after event \n",
    "tmin, tmax = -0.1, 0.9\n",
    "\n",
    "# Channels to include (only eeg channels)\n",
    "picks = mne.pick_types(raw.info, meg=False, eeg=True, eog=False)\n",
    "\n",
    "epochs = mne.Epochs(raw, events, event_id, tmin, tmax, picks=picks, decim=4)\n",
    "epochs"
   ]
  },
  {
   "cell_type": "markdown",
   "metadata": {},
   "source": [
    "***"
   ]
  },
  {
   "cell_type": "markdown",
   "metadata": {},
   "source": [
    "## Animacy Decoding"
   ]
  },
  {
   "cell_type": "markdown",
   "metadata": {},
   "source": [
    "Let's start predicting trial types (animate vs. inanimate) from EEG activity."
   ]
  },
  {
   "cell_type": "code",
   "execution_count": null,
   "metadata": {
    "ExecuteTime": {
     "end_time": "2019-09-24T21:10:31.573460Z",
     "start_time": "2019-09-24T21:10:31.554155Z"
    }
   },
   "outputs": [],
   "source": [
    "from sklearn.discriminant_analysis import LinearDiscriminantAnalysis # classification function\n",
    "from sklearn.pipeline import make_pipeline                           # preprocessing pipeline constructor\n",
    "from sklearn.preprocessing import StandardScaler                     # Standardize features\n",
    "\n",
    "from mne.decoding import SlidingEstimator, cross_val_multiscore      # predict and score a series of models "
   ]
  },
  {
   "cell_type": "markdown",
   "metadata": {},
   "source": [
    "### prepare data\n",
    "\n",
    "We will load `original-epo.fif.gz`, which contains epoched data from all runs. I've imported the recorded BrainVision file to MNE with `mne.io.read_raw_brainvision()`."
   ]
  },
  {
   "cell_type": "code",
   "execution_count": null,
   "metadata": {
    "ExecuteTime": {
     "end_time": "2019-09-24T21:11:00.666353Z",
     "start_time": "2019-09-24T21:11:00.537890Z"
    }
   },
   "outputs": [],
   "source": [
    "epochs = mne.read_epochs('original-epo.fif.gz')\n",
    "times = epochs.times\n",
    "\n",
    "X = epochs.get_data()\n",
    "y = np.isin(epochs.events[:, -1], animate_stim_ids)\n",
    "\n",
    "(X.shape, y.shape)"
   ]
  },
  {
   "cell_type": "markdown",
   "metadata": {},
   "source": [
    "dimensions of X: `samples`, `channels`, `time`"
   ]
  },
  {
   "cell_type": "markdown",
   "metadata": {},
   "source": [
    "### cateogory decoding\n",
    "We want to investigate at which time points there is information about the stimulus category."
   ]
  },
  {
   "cell_type": "code",
   "execution_count": null,
   "metadata": {
    "ExecuteTime": {
     "end_time": "2019-09-24T21:11:58.681861Z",
     "start_time": "2019-09-24T21:11:58.677316Z"
    }
   },
   "outputs": [],
   "source": [
    "from mne.decoding import Vectorizer\n",
    "\n",
    "clf = make_pipeline(StandardScaler(),\n",
    "                    LinearDiscriminantAnalysis())\n",
    "\n",
    "sl = SlidingEstimator(clf)"
   ]
  },
  {
   "cell_type": "code",
   "execution_count": null,
   "metadata": {
    "ExecuteTime": {
     "end_time": "2019-09-24T21:12:05.623553Z",
     "start_time": "2019-09-24T21:11:59.404206Z"
    }
   },
   "outputs": [],
   "source": [
    "# independent measurement cross validation\n",
    "scores = cross_val_multiscore(sl, X, y, cv=5)"
   ]
  },
  {
   "cell_type": "code",
   "execution_count": null,
   "metadata": {
    "ExecuteTime": {
     "end_time": "2019-09-24T21:12:07.381334Z",
     "start_time": "2019-09-24T21:12:07.376131Z"
    }
   },
   "outputs": [],
   "source": [
    "scores.shape"
   ]
  },
  {
   "cell_type": "code",
   "execution_count": null,
   "metadata": {},
   "outputs": [],
   "source": [
    "# set plot parameters\n",
    "plot_params = dict(\n",
    "    ylabel='AUC', \n",
    "    title='Animacy Decoding', \n",
    "    xlim=(tmin, tmax)\n",
    ")"
   ]
  },
  {
   "cell_type": "code",
   "execution_count": null,
   "metadata": {
    "ExecuteTime": {
     "end_time": "2019-09-24T21:12:22.495425Z",
     "start_time": "2019-09-24T21:12:22.288090Z"
    }
   },
   "outputs": [],
   "source": [
    "fig, ax = plt.subplots()\n",
    "ax.plot(epochs.times, scores.T)\n",
    "ax.hlines(0.5, tmin, tmax, linestyle=':')\n",
    "ax.set(**plot_params)\n",
    "plt.show()"
   ]
  },
  {
   "cell_type": "code",
   "execution_count": null,
   "metadata": {
    "ExecuteTime": {
     "end_time": "2019-09-24T16:19:45.530728Z",
     "start_time": "2019-09-24T16:19:45.334126Z"
    },
    "scrolled": false
   },
   "outputs": [],
   "source": [
    "fig, ax = plt.subplots()\n",
    "ax.plot(epochs.times, scores.mean(0))\n",
    "ax.hlines(0.5, tmin, tmax, linestyle=':')\n",
    "ax.set(**plot_params)\n",
    "plt.show()"
   ]
  },
  {
   "cell_type": "markdown",
   "metadata": {},
   "source": [
    "### category decoding with generalization to novel exemplars\n",
    "\n",
    "For this experiment, we want to make sure that the category decoding can be generalized to novel exemplars. Therefore, we will use independent exemplar [cross-validation](https://scikit-learn.org/stable/auto_examples/model_selection/plot_cv_indices.html#sphx-glr-auto-examples-model-selection-plot-cv-indices-py)."
   ]
  },
  {
   "cell_type": "code",
   "execution_count": null,
   "metadata": {
    "ExecuteTime": {
     "end_time": "2019-09-24T21:12:38.057710Z",
     "start_time": "2019-09-24T21:12:34.511759Z"
    },
    "scrolled": true
   },
   "outputs": [],
   "source": [
    "from sklearn.model_selection import GroupKFold\n",
    "\n",
    "\n",
    "# X = epochs.get_data() \n",
    "# y = np.isin(epochs.events[:, -1], animate_event_ids)\n",
    "groups = epochs.events[:, -1] # The same exemplar will not appear in different folds\n",
    "\n",
    "gkf = GroupKFold(n_splits=5)\n",
    "sl = SlidingEstimator(clf)\n",
    "\n",
    "# independent exemplar cross validation\n",
    "scores_with_generalization = cross_val_multiscore(sl, X, y, groups=groups, cv=gkf)"
   ]
  },
  {
   "cell_type": "code",
   "execution_count": null,
   "metadata": {
    "ExecuteTime": {
     "end_time": "2019-09-24T21:12:55.885424Z",
     "start_time": "2019-09-24T21:12:55.688746Z"
    },
    "scrolled": true
   },
   "outputs": [],
   "source": [
    "fig, ax = plt.subplots()\n",
    "ax.plot(epochs.times, scores.mean(0), label='without generalization')\n",
    "ax.plot(epochs.times, scores_with_generalization.mean(0), label='with generalization')\n",
    "ax.hlines(0.5, tmin, tmax, linestyle=':')       # add chance level \n",
    "ax.set(**plot_params)\n",
    "ax.legend()\n",
    "plt.show()"
   ]
  },
  {
   "cell_type": "markdown",
   "metadata": {},
   "source": [
    "## Time Generalizing Decoding\n",
    "We can also investigate decoding with generalization across time."
   ]
  },
  {
   "cell_type": "code",
   "execution_count": null,
   "metadata": {
    "ExecuteTime": {
     "end_time": "2019-09-24T16:26:08.363260Z",
     "start_time": "2019-09-24T16:24:57.489790Z"
    },
    "scrolled": false
   },
   "outputs": [],
   "source": [
    "from mne.decoding import GeneralizingEstimator\n",
    "\n",
    "gkf = GroupKFold(n_splits=2)\n",
    "gen = GeneralizingEstimator(clf)\n",
    "scores_gen = cross_val_multiscore(gen, X, y, groups=groups, cv=gkf)"
   ]
  },
  {
   "cell_type": "code",
   "execution_count": null,
   "metadata": {
    "ExecuteTime": {
     "end_time": "2019-09-24T16:07:32.970981Z",
     "start_time": "2019-09-24T16:07:32.685833Z"
    }
   },
   "outputs": [],
   "source": [
    "data = scores_gen.mean(0)\n",
    "vmax = np.abs(data).max()\n",
    "\n",
    "fig, ax = plt.subplots()\n",
    "im = ax.imshow(\n",
    "    data,\n",
    "    origin=\"lower\", cmap=\"RdBu_r\",\n",
    "    extent=(tmin, tmax, tmin, tmax),\n",
    "    vmax=vmax, vmin=1-vmax);\n",
    "\n",
    "plt.colorbar(im)\n",
    "plt.show()"
   ]
  },
  {
   "cell_type": "markdown",
   "metadata": {},
   "source": [
    "## Representational Similarity Analysis"
   ]
  },
  {
   "cell_type": "markdown",
   "metadata": {},
   "source": [
    "### make RDM"
   ]
  },
  {
   "cell_type": "code",
   "execution_count": null,
   "metadata": {
    "ExecuteTime": {
     "end_time": "2019-09-24T21:16:16.839499Z",
     "start_time": "2019-09-24T21:16:16.827145Z"
    }
   },
   "outputs": [],
   "source": [
    "epochs['big/animate/object001']"
   ]
  },
  {
   "cell_type": "code",
   "execution_count": null,
   "metadata": {
    "ExecuteTime": {
     "end_time": "2019-09-24T20:25:53.661288Z",
     "start_time": "2019-09-24T20:25:53.169606Z"
    }
   },
   "outputs": [],
   "source": [
    "# get the pattern for each stimuli\n",
    "patterns = np.array([epochs[event].get_data().mean(0) for event in event_id])\n",
    "patterns.shape"
   ]
  },
  {
   "cell_type": "code",
   "execution_count": null,
   "metadata": {
    "ExecuteTime": {
     "end_time": "2019-09-24T20:25:55.713581Z",
     "start_time": "2019-09-24T20:25:55.681051Z"
    }
   },
   "outputs": [],
   "source": [
    "from scipy.spatial.distance import pdist, squareform\n",
    "\n",
    "rdms = [squareform(pdist(patterns[:,:,i], metric='correlation')) \n",
    "        for i in range(len(epochs.times))]\n",
    "rdms = np.array(rdms)\n",
    "rdms.shape"
   ]
  },
  {
   "cell_type": "markdown",
   "metadata": {},
   "source": [
    "### visulize RDMs at different time points"
   ]
  },
  {
   "cell_type": "code",
   "execution_count": null,
   "metadata": {},
   "outputs": [],
   "source": [
    "tid1, tid2, tid3 = 10, 28, 70\n",
    "time1, time2, time3 = epochs.times[tid1], epochs.times[tid2], epochs.times[tid3], \n",
    "\n",
    "(time1, time2, time3)"
   ]
  },
  {
   "cell_type": "code",
   "execution_count": null,
   "metadata": {
    "ExecuteTime": {
     "end_time": "2019-09-24T20:25:58.240462Z",
     "start_time": "2019-09-24T20:25:57.880915Z"
    }
   },
   "outputs": [],
   "source": [
    "fig, axes = plt.subplots(1, 3, figsize=(12, 4))\n",
    "\n",
    "im1 = axes[0].imshow(rdms[tid1], vmax=1.5, vmin=0)\n",
    "im2 = axes[1].imshow(rdms[tid2], vmax=1.5, vmin=0)\n",
    "im3 = axes[2].imshow(rdms[tid3], vmax=1.5, vmin=0)\n",
    "\n",
    "axes[0].set_title(f'RDM at {time1} s')\n",
    "axes[1].set_title(f'RDM at {time2} s')\n",
    "axes[2].set_title(f'RDM at {time3} s')\n",
    "plt.show()\n"
   ]
  },
  {
   "cell_type": "markdown",
   "metadata": {},
   "source": [
    "### visualize MDS plots at different time points"
   ]
  },
  {
   "cell_type": "code",
   "execution_count": null,
   "metadata": {},
   "outputs": [],
   "source": [
    "from sklearn.manifold import MDS\n",
    "\n",
    "def plot_mds(rdm, ax=None, colors=None, time=None):\n",
    "    model = MDS(n_components=2, dissimilarity='precomputed', random_state=0)\n",
    "    out = model.fit_transform(rdm)\n",
    "    if ax is None:\n",
    "        fig, ax = plt.subplots()\n",
    "    ax.scatter(out[:,0], out[:,1], color=colors)\n",
    "    if time is not None:\n",
    "        ax.set_title(f'MDS at {time} s')\n",
    "    "
   ]
  },
  {
   "cell_type": "code",
   "execution_count": null,
   "metadata": {
    "ExecuteTime": {
     "end_time": "2019-09-24T20:26:00.598868Z",
     "start_time": "2019-09-24T20:26:00.048951Z"
    }
   },
   "outputs": [],
   "source": [
    "# set colors for animate and inanimate objects\n",
    "color_mapping = dict(animate='purple', inanimate='pink')\n",
    "colors = df_stim['animacy'].map(color_mapping).values\n",
    "\n",
    "fig, axes = plt.subplots(1, 3, figsize=(12, 4))\n",
    "plot_mds(rdms[tid1], colors=colors, time=time1, ax=axes[0])\n",
    "plot_mds(rdms[tid2], colors=colors, time=time2, ax=axes[1])\n",
    "plot_mds(rdms[tid3], colors=colors, time=time3, ax=axes[2])\n",
    "plt.show()\n"
   ]
  }
 ],
 "metadata": {
  "kernelspec": {
   "display_name": "Python 3",
   "language": "python",
   "name": "python3"
  },
  "language_info": {
   "codemirror_mode": {
    "name": "ipython",
    "version": 3
   },
   "file_extension": ".py",
   "mimetype": "text/x-python",
   "name": "python",
   "nbconvert_exporter": "python",
   "pygments_lexer": "ipython3",
   "version": "3.7.4"
  },
  "toc": {
   "base_numbering": 1,
   "nav_menu": {},
   "number_sections": true,
   "sideBar": true,
   "skip_h1_title": false,
   "title_cell": "Table of Contents",
   "title_sidebar": "Contents",
   "toc_cell": false,
   "toc_position": {},
   "toc_section_display": true,
   "toc_window_display": false
  }
 },
 "nbformat": 4,
 "nbformat_minor": 2
}
